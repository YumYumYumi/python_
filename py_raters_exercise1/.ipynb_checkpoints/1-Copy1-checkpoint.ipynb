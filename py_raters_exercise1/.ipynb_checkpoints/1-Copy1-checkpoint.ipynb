{
 "cells": [
  {
   "cell_type": "code",
   "execution_count": 3,
   "metadata": {},
   "outputs": [
    {
     "name": "stdout",
     "output_type": "stream",
     "text": [
      "Current working directory: /home/hm/git_environment/python_/py_raters_exercise1\n"
     ]
    }
   ],
   "source": [
    "# Import the os module\n",
    "import os\n",
    "# Get the current working directory\n",
    "cwd = os.getcwd()\n",
    "# Print the current working directory\n",
    "print(\"Current working directory: {0}\".format(cwd))"
   ]
  },
  {
   "cell_type": "code",
   "execution_count": 7,
   "metadata": {},
   "outputs": [
    {
     "data": {
      "text/html": [
       "<p>To authorize access needed by Earth Engine, open the following\n",
       "        URL in a web browser and follow the instructions:</p>\n",
       "        <p><a href=https://accounts.google.com/o/oauth2/auth?client_id=517222506229-vsmmajv00ul0bs7p89v5m89qs8eb9359.apps.googleusercontent.com&scope=https%3A%2F%2Fwww.googleapis.com%2Fauth%2Fearthengine+https%3A%2F%2Fwww.googleapis.com%2Fauth%2Fdevstorage.full_control&redirect_uri=urn%3Aietf%3Awg%3Aoauth%3A2.0%3Aoob&response_type=code&code_challenge=cSaC-ZNl6e6HBDJIWlg2SmJil_LV3UuQfnx9qKlBXxw&code_challenge_method=S256>https://accounts.google.com/o/oauth2/auth?client_id=517222506229-vsmmajv00ul0bs7p89v5m89qs8eb9359.apps.googleusercontent.com&scope=https%3A%2F%2Fwww.googleapis.com%2Fauth%2Fearthengine+https%3A%2F%2Fwww.googleapis.com%2Fauth%2Fdevstorage.full_control&redirect_uri=urn%3Aietf%3Awg%3Aoauth%3A2.0%3Aoob&response_type=code&code_challenge=cSaC-ZNl6e6HBDJIWlg2SmJil_LV3UuQfnx9qKlBXxw&code_challenge_method=S256</a></p>\n",
       "        <p>The authorization workflow will generate a code, which you\n",
       "        should paste in the box below</p>\n",
       "        "
      ],
      "text/plain": [
       "<IPython.core.display.HTML object>"
      ]
     },
     "metadata": {},
     "output_type": "display_data"
    },
    {
     "name": "stdout",
     "output_type": "stream",
     "text": [
      "Enter verification code: 4/1AX4XfWi6y-RSLqiWIUGHiYCup_JqM-TEj3t2lk5RhYc8mlzi0gHnR5_ePsE\n",
      "\n",
      "Successfully saved authorization token.\n"
     ]
    }
   ],
   "source": [
    "import ee\n",
    "ee.Authenticate()\n",
    "ee.Initialize()"
   ]
  },
  {
   "cell_type": "code",
   "execution_count": 16,
   "metadata": {},
   "outputs": [],
   "source": [
    "startDate = ee.Date('2021-10-01')\n",
    "endDate = ee.Date('2021-11-01')\n",
    "boundary_filter = [51.650698277933664, 10.278801269531233, 51.81230147657161, 10.576118774414045]\n",
    "region = ee.Geometry.Rectangle(boundary_filter)\n",
    "\n",
    "\n",
    "imgcoll = ee.ImageCollection(\"COPERNICUS/S2_SR\").filterBounds(ee.Geometry.Rectangle(boundary_filter)).filterDate(startDate,endDate).mean()"
   ]
  },
  {
   "cell_type": "code",
   "execution_count": 19,
   "metadata": {},
   "outputs": [
    {
     "name": "stdout",
     "output_type": "stream",
     "text": [
      "ee.Image({\n",
      "  \"functionInvocationValue\": {\n",
      "    \"functionName\": \"reduce.mean\",\n",
      "    \"arguments\": {\n",
      "      \"collection\": {\n",
      "        \"functionInvocationValue\": {\n",
      "          \"functionName\": \"Collection.filter\",\n",
      "          \"arguments\": {\n",
      "            \"collection\": {\n",
      "              \"functionInvocationValue\": {\n",
      "                \"functionName\": \"Collection.filter\",\n",
      "                \"arguments\": {\n",
      "                  \"collection\": {\n",
      "                    \"functionInvocationValue\": {\n",
      "                      \"functionName\": \"ImageCollection.load\",\n",
      "                      \"arguments\": {\n",
      "                        \"id\": {\n",
      "                          \"constantValue\": \"COPERNICUS/S2_SR\"\n",
      "                        }\n",
      "                      }\n",
      "                    }\n",
      "                  },\n",
      "                  \"filter\": {\n",
      "                    \"functionInvocationValue\": {\n",
      "                      \"functionName\": \"Filter.intersects\",\n",
      "                      \"arguments\": {\n",
      "                        \"leftField\": {\n",
      "                          \"constantValue\": \".all\"\n",
      "                        },\n",
      "                        \"rightValue\": {\n",
      "                          \"functionInvocationValue\": {\n",
      "                            \"functionName\": \"Feature\",\n",
      "                            \"arguments\": {\n",
      "                              \"geometry\": {\n",
      "                                \"functionInvocationValue\": {\n",
      "                                  \"functionName\": \"GeometryConstructors.Polygon\",\n",
      "                                  \"arguments\": {\n",
      "                                    \"coordinates\": {\n",
      "                                      \"constantValue\": [\n",
      "                                        [\n",
      "                                          [\n",
      "                                            51.650698277933664,\n",
      "                                            10.576118774414045\n",
      "                                          ],\n",
      "                                          [\n",
      "                                            51.650698277933664,\n",
      "                                            10.278801269531233\n",
      "                                          ],\n",
      "                                          [\n",
      "                                            51.81230147657161,\n",
      "                                            10.278801269531233\n",
      "                                          ],\n",
      "                                          [\n",
      "                                            51.81230147657161,\n",
      "                                            10.576118774414045\n",
      "                                          ]\n",
      "                                        ]\n",
      "                                      ]\n",
      "                                    },\n",
      "                                    \"evenOdd\": {\n",
      "                                      \"constantValue\": true\n",
      "                                    }\n",
      "                                  }\n",
      "                                }\n",
      "                              }\n",
      "                            }\n",
      "                          }\n",
      "                        }\n",
      "                      }\n",
      "                    }\n",
      "                  }\n",
      "                }\n",
      "              }\n",
      "            },\n",
      "            \"filter\": {\n",
      "              \"functionInvocationValue\": {\n",
      "                \"functionName\": \"Filter.dateRangeContains\",\n",
      "                \"arguments\": {\n",
      "                  \"leftValue\": {\n",
      "                    \"functionInvocationValue\": {\n",
      "                      \"functionName\": \"DateRange\",\n",
      "                      \"arguments\": {\n",
      "                        \"end\": {\n",
      "                          \"functionInvocationValue\": {\n",
      "                            \"functionName\": \"Date\",\n",
      "                            \"arguments\": {\n",
      "                              \"value\": {\n",
      "                                \"constantValue\": \"2021-11-01\"\n",
      "                              }\n",
      "                            }\n",
      "                          }\n",
      "                        },\n",
      "                        \"start\": {\n",
      "                          \"functionInvocationValue\": {\n",
      "                            \"functionName\": \"Date\",\n",
      "                            \"arguments\": {\n",
      "                              \"value\": {\n",
      "                                \"constantValue\": \"2021-10-01\"\n",
      "                              }\n",
      "                            }\n",
      "                          }\n",
      "                        }\n",
      "                      }\n",
      "                    }\n",
      "                  },\n",
      "                  \"rightField\": {\n",
      "                    \"constantValue\": \"system:time_start\"\n",
      "                  }\n",
      "                }\n",
      "              }\n",
      "            }\n",
      "          }\n",
      "        }\n",
      "      }\n",
      "    }\n",
      "  }\n",
      "})\n"
     ]
    }
   ],
   "source": [
    "bands = ['B2', 'B3', 'B4']\n",
    "print(imgcoll)"
   ]
  },
  {
   "cell_type": "code",
   "execution_count": null,
   "metadata": {},
   "outputs": [],
   "source": []
  },
  {
   "cell_type": "code",
   "execution_count": 18,
   "metadata": {},
   "outputs": [
    {
     "ename": "AttributeError",
     "evalue": "'Image' object has no attribute 'toList'",
     "output_type": "error",
     "traceback": [
      "\u001b[0;31m---------------------------------------------------------------------------\u001b[0m",
      "\u001b[0;31mAttributeError\u001b[0m                            Traceback (most recent call last)",
      "\u001b[0;32m<ipython-input-18-0cad98243e2e>\u001b[0m in \u001b[0;36m<module>\u001b[0;34m\u001b[0m\n\u001b[1;32m      2\u001b[0m \u001b[0;32mimport\u001b[0m \u001b[0mgeetools\u001b[0m\u001b[0;34m\u001b[0m\u001b[0;34m\u001b[0m\u001b[0m\n\u001b[1;32m      3\u001b[0m \u001b[0;31m#for band in bands:\u001b[0m\u001b[0;34m\u001b[0m\u001b[0;34m\u001b[0m\u001b[0;34m\u001b[0m\u001b[0m\n\u001b[0;32m----> 4\u001b[0;31m tasks = geetools.batch.Export.imagecollection.toDrive(\n\u001b[0m\u001b[1;32m      5\u001b[0m     \u001b[0mcollection\u001b[0m\u001b[0;34m=\u001b[0m\u001b[0mimgcoll\u001b[0m\u001b[0;34m.\u001b[0m\u001b[0mselect\u001b[0m\u001b[0;34m(\u001b[0m\u001b[0mbands\u001b[0m\u001b[0;34m)\u001b[0m\u001b[0;34m,\u001b[0m\u001b[0;34m\u001b[0m\u001b[0;34m\u001b[0m\u001b[0m\n\u001b[1;32m      6\u001b[0m     \u001b[0mfolder\u001b[0m\u001b[0;34m=\u001b[0m\u001b[0;34m'test'\u001b[0m\u001b[0;34m,\u001b[0m\u001b[0;34m\u001b[0m\u001b[0;34m\u001b[0m\u001b[0m\n",
      "\u001b[0;32m~/.local/lib/python3.8/site-packages/geetools/batch/imagecollection.py\u001b[0m in \u001b[0;36mtoDrive\u001b[0;34m(collection, folder, namePattern, scale, dataType, region, datePattern, extra, verbose, **kwargs)\u001b[0m\n\u001b[1;32m     50\u001b[0m \u001b[0;34m\u001b[0m\u001b[0m\n\u001b[1;32m     51\u001b[0m     \u001b[0;31m# Make a list of images\u001b[0m\u001b[0;34m\u001b[0m\u001b[0;34m\u001b[0m\u001b[0;34m\u001b[0m\u001b[0m\n\u001b[0;32m---> 52\u001b[0;31m     \u001b[0mimg_list\u001b[0m \u001b[0;34m=\u001b[0m \u001b[0mcollection\u001b[0m\u001b[0;34m.\u001b[0m\u001b[0mtoList\u001b[0m\u001b[0;34m(\u001b[0m\u001b[0mcollection\u001b[0m\u001b[0;34m.\u001b[0m\u001b[0msize\u001b[0m\u001b[0;34m(\u001b[0m\u001b[0;34m)\u001b[0m\u001b[0;34m)\u001b[0m\u001b[0;34m\u001b[0m\u001b[0;34m\u001b[0m\u001b[0m\n\u001b[0m\u001b[1;32m     53\u001b[0m \u001b[0;34m\u001b[0m\u001b[0m\n\u001b[1;32m     54\u001b[0m     \u001b[0mn\u001b[0m \u001b[0;34m=\u001b[0m \u001b[0;36m0\u001b[0m\u001b[0;34m\u001b[0m\u001b[0;34m\u001b[0m\u001b[0m\n",
      "\u001b[0;31mAttributeError\u001b[0m: 'Image' object has no attribute 'toList'"
     ]
    }
   ],
   "source": [
    "#name_pattern = '{sat}_{system_date}_{WRS_PATH:%d}-{WRS_ROW:%d}'\n",
    "import geetools\n",
    "#for band in bands:\n",
    "tasks = geetools.batch.Export.imagecollection.toDrive(\n",
    "    collection=imgcoll.select(bands), \n",
    "    folder='test',\n",
    "    scale= 10,\n",
    "    #namePattern= name_pattern,\n",
    "    region= region)"
   ]
  },
  {
   "cell_type": "code",
   "execution_count": null,
   "metadata": {
    "collapsed": true
   },
   "outputs": [],
   "source": [
    "/**\n",
    " * Function to mask clouds using the Sentinel-2 QA band\n",
    " * @param {ee.Image} image Sentinel-2 image\n",
    " * @return {ee.Image} cloud masked Sentinel-2 image\n",
    " */\n",
    "\n",
    "def maskS2clouds(image) {\n",
    "  qa = image.select('QA60');\n",
    "  cloudBitMask = 1 << 10;\n",
    "  cirrusBitMask = 1 << 11;\n",
    "  mask = qa.bitwiseAnd(cloudBitMask).eq(0)\n",
    "      .and(qa.bitwiseAnd(cirrusBitMask).eq(0));\n",
    "  return image.updateMask(mask).divide(10000);\n",
    "}\n",
    "\n",
    "var dataset = ee.ImageCollection('COPERNICUS/S2_SR')\n",
    "                  .filterDate('2021-10-01', '2021-11-01')\n",
    "                  .map(function(image){return image.clip(harz_clip)})\n",
    "                  .filter(ee.Filter.lt('CLOUDY_PIXEL_PERCENTAGE',3))\n",
    "                  .map(maskS2clouds);\n",
    "\n",
    "var visualization = {\n",
    "  min: 0.0,\n",
    "  max: 0.3,\n",
    "  bands: ['B4', 'B3', 'B2'],\n",
    "};\n",
    "\n",
    "Map.setCenter(10.32, 51.57, 12);\n",
    "\n",
    "Map.addLayer(dataset.mean(), visualization, 'RGB');\n",
    "\n",
    "Export.image.toDrive({\n",
    "  image: dataset,\n",
    "  description: 'imageToDriveExample',\n",
    "  scale: 10,\n",
    "  region: harz_clip\n",
    "});\n",
    "\n",
    "\n",
    "0: [10.278801269531233,51.650698277933664]\n",
    "1: [10.576118774414045,51.650698277933664]\n",
    "2: [10.576118774414045,51.81230147657161]\n",
    "3: [10.278801269531233,51.81230147657161]\n",
    "4: [10.278801269531233,51.650698277933664]"
   ]
  }
 ],
 "metadata": {
  "kernelspec": {
   "display_name": "Python 3",
   "language": "python",
   "name": "python3"
  },
  "language_info": {
   "codemirror_mode": {
    "name": "ipython",
    "version": 3
   },
   "file_extension": ".py",
   "mimetype": "text/x-python",
   "name": "python",
   "nbconvert_exporter": "python",
   "pygments_lexer": "ipython3",
   "version": "3.8.10"
  }
 },
 "nbformat": 4,
 "nbformat_minor": 4
}
